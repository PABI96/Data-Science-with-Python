{
 "cells": [
  {
   "cell_type": "code",
   "execution_count": 2,
   "id": "b71c3196-505a-4fbd-b5be-d80958570669",
   "metadata": {},
   "outputs": [],
   "source": [
    "import pandas as pd\n",
    "import numpy as np\n",
    "import matplotlib.pyplot as plt\n",
    "%matplotlib inline\n",
    "\n",
    "import scipy.stats as stats\n",
    "import sklearn as sk\n",
    "import statsmodels as sm\n",
    "\n",
    "from datetime import datetime as dt\n",
    "from datetime import datetime as date\n",
    "\n",
    "import warnings\n",
    "warnings.filterwarnings('ignore')"
   ]
  },
  {
   "cell_type": "code",
   "execution_count": 12,
   "id": "7e95a3e6-f337-42bb-8616-fe15961a9447",
   "metadata": {},
   "outputs": [
    {
     "data": {
      "text/html": [
       "<div>\n",
       "<style scoped>\n",
       "    .dataframe tbody tr th:only-of-type {\n",
       "        vertical-align: middle;\n",
       "    }\n",
       "\n",
       "    .dataframe tbody tr th {\n",
       "        vertical-align: top;\n",
       "    }\n",
       "\n",
       "    .dataframe thead th {\n",
       "        text-align: right;\n",
       "    }\n",
       "</style>\n",
       "<table border=\"1\" class=\"dataframe\">\n",
       "  <thead>\n",
       "    <tr style=\"text-align: right;\">\n",
       "      <th></th>\n",
       "      <th>Store</th>\n",
       "      <th>Date</th>\n",
       "      <th>Weekly_Sales</th>\n",
       "      <th>Holiday_Flag</th>\n",
       "      <th>Temperature</th>\n",
       "      <th>Fuel_Price</th>\n",
       "      <th>CPI</th>\n",
       "      <th>Unemployment</th>\n",
       "    </tr>\n",
       "  </thead>\n",
       "  <tbody>\n",
       "    <tr>\n",
       "      <th>0</th>\n",
       "      <td>1</td>\n",
       "      <td>05-02-2010</td>\n",
       "      <td>1643690.90</td>\n",
       "      <td>0</td>\n",
       "      <td>42.31</td>\n",
       "      <td>2.572</td>\n",
       "      <td>211.096358</td>\n",
       "      <td>8.106</td>\n",
       "    </tr>\n",
       "    <tr>\n",
       "      <th>1</th>\n",
       "      <td>1</td>\n",
       "      <td>12-02-2010</td>\n",
       "      <td>1641957.44</td>\n",
       "      <td>1</td>\n",
       "      <td>38.51</td>\n",
       "      <td>2.548</td>\n",
       "      <td>211.242170</td>\n",
       "      <td>8.106</td>\n",
       "    </tr>\n",
       "    <tr>\n",
       "      <th>2</th>\n",
       "      <td>1</td>\n",
       "      <td>19-02-2010</td>\n",
       "      <td>1611968.17</td>\n",
       "      <td>0</td>\n",
       "      <td>39.93</td>\n",
       "      <td>2.514</td>\n",
       "      <td>211.289143</td>\n",
       "      <td>8.106</td>\n",
       "    </tr>\n",
       "    <tr>\n",
       "      <th>3</th>\n",
       "      <td>1</td>\n",
       "      <td>26-02-2010</td>\n",
       "      <td>1409727.59</td>\n",
       "      <td>0</td>\n",
       "      <td>46.63</td>\n",
       "      <td>2.561</td>\n",
       "      <td>211.319643</td>\n",
       "      <td>8.106</td>\n",
       "    </tr>\n",
       "    <tr>\n",
       "      <th>4</th>\n",
       "      <td>1</td>\n",
       "      <td>05-03-2010</td>\n",
       "      <td>1554806.68</td>\n",
       "      <td>0</td>\n",
       "      <td>46.50</td>\n",
       "      <td>2.625</td>\n",
       "      <td>211.350143</td>\n",
       "      <td>8.106</td>\n",
       "    </tr>\n",
       "  </tbody>\n",
       "</table>\n",
       "</div>"
      ],
      "text/plain": [
       "   Store        Date  Weekly_Sales  Holiday_Flag  Temperature  Fuel_Price  \\\n",
       "0      1  05-02-2010    1643690.90             0        42.31       2.572   \n",
       "1      1  12-02-2010    1641957.44             1        38.51       2.548   \n",
       "2      1  19-02-2010    1611968.17             0        39.93       2.514   \n",
       "3      1  26-02-2010    1409727.59             0        46.63       2.561   \n",
       "4      1  05-03-2010    1554806.68             0        46.50       2.625   \n",
       "\n",
       "          CPI  Unemployment  \n",
       "0  211.096358         8.106  \n",
       "1  211.242170         8.106  \n",
       "2  211.289143         8.106  \n",
       "3  211.319643         8.106  \n",
       "4  211.350143         8.106  "
      ]
     },
     "execution_count": 12,
     "metadata": {},
     "output_type": "execute_result"
    }
   ],
   "source": [
    "data = pd.read_csv('Walmart_Store_sales.csv')\n",
    "data.head()"
   ]
  },
  {
   "cell_type": "code",
   "execution_count": 13,
   "id": "26265732-a6f4-41ff-b4ac-a9fc61398f32",
   "metadata": {},
   "outputs": [
    {
     "name": "stdout",
     "output_type": "stream",
     "text": [
      "<class 'pandas.core.frame.DataFrame'>\n",
      "RangeIndex: 6435 entries, 0 to 6434\n",
      "Data columns (total 8 columns):\n",
      " #   Column        Non-Null Count  Dtype  \n",
      "---  ------        --------------  -----  \n",
      " 0   Store         6435 non-null   int64  \n",
      " 1   Date          6435 non-null   object \n",
      " 2   Weekly_Sales  6435 non-null   float64\n",
      " 3   Holiday_Flag  6435 non-null   int64  \n",
      " 4   Temperature   6435 non-null   float64\n",
      " 5   Fuel_Price    6435 non-null   float64\n",
      " 6   CPI           6435 non-null   float64\n",
      " 7   Unemployment  6435 non-null   float64\n",
      "dtypes: float64(5), int64(2), object(1)\n",
      "memory usage: 402.3+ KB\n"
     ]
    }
   ],
   "source": [
    "data.info()"
   ]
  },
  {
   "cell_type": "code",
   "execution_count": null,
   "id": "4fb45f33-1219-45db-bec5-1c503a0ab8d9",
   "metadata": {},
   "outputs": [],
   "source": [
    "-Convert the date format to datetime.\n",
    "-This target variable is weekly sales. \n",
    "-There are no missing data.\n",
    "-The shape is (6435,8.)"
   ]
  },
  {
   "cell_type": "code",
   "execution_count": 14,
   "id": "c2585f44-9461-4b13-978d-d342076a2d42",
   "metadata": {},
   "outputs": [
    {
     "name": "stdout",
     "output_type": "stream",
     "text": [
      "<class 'pandas.core.frame.DataFrame'>\n",
      "RangeIndex: 6435 entries, 0 to 6434\n",
      "Data columns (total 8 columns):\n",
      " #   Column        Non-Null Count  Dtype         \n",
      "---  ------        --------------  -----         \n",
      " 0   Store         6435 non-null   int64         \n",
      " 1   Date          6435 non-null   datetime64[ns]\n",
      " 2   Weekly_Sales  6435 non-null   float64       \n",
      " 3   Holiday_Flag  6435 non-null   int64         \n",
      " 4   Temperature   6435 non-null   float64       \n",
      " 5   Fuel_Price    6435 non-null   float64       \n",
      " 6   CPI           6435 non-null   float64       \n",
      " 7   Unemployment  6435 non-null   float64       \n",
      "dtypes: datetime64[ns](1), float64(5), int64(2)\n",
      "memory usage: 402.3 KB\n"
     ]
    }
   ],
   "source": [
    "# Date formatting : \n",
    "data['Date'] = pd.to_datetime(data['Date'])\n",
    "data.info()"
   ]
  },
  {
   "cell_type": "code",
   "execution_count": 15,
   "id": "091cf52c-7d17-4401-bcc5-c77413af76de",
   "metadata": {},
   "outputs": [
    {
     "data": {
      "text/plain": [
       "0    5985\n",
       "1     450\n",
       "Name: Holiday_Flag, dtype: int64"
      ]
     },
     "execution_count": 15,
     "metadata": {},
     "output_type": "execute_result"
    }
   ],
   "source": [
    "data['Holiday_Flag'].value_counts()"
   ]
  },
  {
   "cell_type": "code",
   "execution_count": 16,
   "id": "e5e5115d-12a6-463c-8e27-576023de54b9",
   "metadata": {},
   "outputs": [],
   "source": [
    "data['DateType'] = [dt.strptime(date, '%Y-%m-%d').date() for date in data['Date'].astype(str).values.tolist()]"
   ]
  },
  {
   "cell_type": "code",
   "execution_count": null,
   "id": "f04d9a75-427d-4edb-9f98-87883ecd5497",
   "metadata": {},
   "outputs": [],
   "source": [
    "Holidays:"
   ]
  },
  {
   "cell_type": "code",
   "execution_count": 17,
   "id": "d41fb3c5-db5d-4b48-a7a3-d546435a9ca0",
   "metadata": {},
   "outputs": [],
   "source": [
    "data['Superbowl'] = np.where((data['DateType'] == dt(2010, 2, 12).date()) | (data['DateType'] == dt(2011, 2, 11).date())| \n",
    "                             (data['DateType'] == dt(2012, 2, 10).date()) | (data['DateType'] == dt(2013, 2, 8).date()),1, 0)\n",
    "\n",
    "data['Labor_Day'] = np.where((data['DateType'] == dt(2010, 9, 10).date()) | (data['DateType'] == dt(2011, 9, 9).date()) | \n",
    "                             (data['DateType'] == dt(2012, 9,  7).date()) | (data['DateType'] == dt(2013, 9, 6).date()),1, 0)\n",
    "\n",
    "data['Christmas'] = np.where((data['DateType'] == dt(2010, 12, 31).date()) | (data['DateType'] == dt(2011, 12, 30).date())| \n",
    "                             (data['DateType'] == dt(2012, 12, 28).date()) | (data['DateType'] == dt(2013, 12, 27).date()),1, 0)\n",
    "\n",
    "data['Thanksgiving'] = np.where((data['DateType'] == dt(2010, 11, 26).date())| (data['DateType'] == dt(2011, 11, 25).date())|\n",
    "                                (data['DateType'] == dt(2012, 11, 23).date())|(data['DateType'] == dt(2013, 11, 29).date()),1,0)"
   ]
  },
  {
   "cell_type": "code",
   "execution_count": 18,
   "id": "3346ca0e-d607-47eb-af43-9a274c8baeda",
   "metadata": {},
   "outputs": [
    {
     "name": "stdout",
     "output_type": "stream",
     "text": [
      "0    6435\n",
      "Name: Superbowl, dtype: int64\n",
      "0    6390\n",
      "1      45\n",
      "Name: Labor_Day, dtype: int64\n",
      "0    6345\n",
      "1      90\n",
      "Name: Thanksgiving, dtype: int64\n",
      "0    6345\n",
      "1      90\n",
      "Name: Christmas, dtype: int64\n"
     ]
    }
   ],
   "source": [
    "print(data.Superbowl.value_counts())\n",
    "print(data.Labor_Day.value_counts())\n",
    "print(data.Thanksgiving.value_counts())\n",
    "print(data.Christmas.value_counts())"
   ]
  },
  {
   "cell_type": "code",
   "execution_count": null,
   "id": "161c2d0e-f9f7-4b84-a4f4-9047774df298",
   "metadata": {},
   "outputs": [],
   "source": [
    "1.Which store has maximum sales"
   ]
  },
  {
   "cell_type": "code",
   "execution_count": 19,
   "id": "50c4e4d3-c7b4-48a1-8f36-5728a3d1d321",
   "metadata": {},
   "outputs": [
    {
     "data": {
      "text/plain": [
       "Store\n",
       "20    301397792.5\n",
       "4     299543953.4\n",
       "14    288999911.3\n",
       "13    286517703.8\n",
       "2     275382441.0\n",
       "Name: Weekly_Sales, dtype: float64"
      ]
     },
     "execution_count": 19,
     "metadata": {},
     "output_type": "execute_result"
    }
   ],
   "source": [
    "store_sales = data.groupby(['Store'])['Weekly_Sales'].sum().sort_values(ascending = False)\n",
    "round(store_sales, 1).head()"
   ]
  },
  {
   "cell_type": "code",
   "execution_count": null,
   "id": "b9888413-3c33-49d8-bafa-eb1fa7cfb64f",
   "metadata": {},
   "outputs": [],
   "source": [
    "The store 20 has maximum sales"
   ]
  },
  {
   "cell_type": "code",
   "execution_count": null,
   "id": "566c3f32-97cc-4869-a43d-a17c96106e5b",
   "metadata": {},
   "outputs": [],
   "source": [
    "2.Which store has maximum standard deviation i.e., the sales vary a lot. Also, \n",
    "find out the coefficient of mean to standard deviation"
   ]
  },
  {
   "cell_type": "code",
   "execution_count": 20,
   "id": "495150aa-2f88-4cff-a9d8-b8907fdc89d6",
   "metadata": {},
   "outputs": [
    {
     "data": {
      "text/plain": [
       "Store\n",
       "14    317569.95\n",
       "10    302262.06\n",
       "20    275900.56\n",
       "4     266201.44\n",
       "13    265507.00\n",
       "Name: Weekly_Sales, dtype: float64"
      ]
     },
     "execution_count": 20,
     "metadata": {},
     "output_type": "execute_result"
    }
   ],
   "source": [
    "store_std = data.groupby(['Store'])['Weekly_Sales'].std().sort_values(ascending = False)\n",
    "round(store_std, 2).head()"
   ]
  },
  {
   "cell_type": "code",
   "execution_count": 21,
   "id": "8278ada8-7b46-4d7b-8d9b-a2e35cffe07e",
   "metadata": {},
   "outputs": [
    {
     "data": {
      "text/plain": [
       "Store\n",
       "35    0.23\n",
       "7     0.20\n",
       "15    0.19\n",
       "23    0.18\n",
       "29    0.18\n",
       "Name: Weekly_Sales, dtype: float64"
      ]
     },
     "execution_count": 21,
     "metadata": {},
     "output_type": "execute_result"
    }
   ],
   "source": [
    "store_mean = data.groupby(['Store'])['Weekly_Sales'].mean().sort_values(ascending = False)\n",
    "\n",
    "coeff_variance = round(store_std / store_mean, 2)\n",
    "\n",
    "coeff_variance.sort_values(ascending = False).head()"
   ]
  },
  {
   "cell_type": "code",
   "execution_count": null,
   "id": "7589e02a-48fa-4bd8-9567-33a252ea1fd9",
   "metadata": {},
   "outputs": [],
   "source": [
    "-As previously mentioned, coeff_variance provides the coefficient of variance with \n",
    " respect to specific dataset stores.\n",
    "-Store 14 has the maximum standard deviation."
   ]
  },
  {
   "cell_type": "code",
   "execution_count": null,
   "id": "d4b19632-2769-42d3-a110-9c8e7d55ae48",
   "metadata": {},
   "outputs": [],
   "source": [
    "3. Which store/s has good quarterly growth rate in Q3’2012"
   ]
  },
  {
   "cell_type": "code",
   "execution_count": 22,
   "id": "423270d5-0b76-4980-a9f2-919b97c369bb",
   "metadata": {},
   "outputs": [
    {
     "data": {
      "text/html": [
       "<div>\n",
       "<style scoped>\n",
       "    .dataframe tbody tr th:only-of-type {\n",
       "        vertical-align: middle;\n",
       "    }\n",
       "\n",
       "    .dataframe tbody tr th {\n",
       "        vertical-align: top;\n",
       "    }\n",
       "\n",
       "    .dataframe thead th {\n",
       "        text-align: right;\n",
       "    }\n",
       "</style>\n",
       "<table border=\"1\" class=\"dataframe\">\n",
       "  <thead>\n",
       "    <tr style=\"text-align: right;\">\n",
       "      <th></th>\n",
       "      <th>Store</th>\n",
       "      <th>Date</th>\n",
       "      <th>Weekly_Sales</th>\n",
       "      <th>Holiday_Flag</th>\n",
       "      <th>Temperature</th>\n",
       "      <th>Fuel_Price</th>\n",
       "      <th>CPI</th>\n",
       "      <th>Unemployment</th>\n",
       "      <th>Superbowl</th>\n",
       "      <th>Labor_Day</th>\n",
       "      <th>Christmas</th>\n",
       "      <th>Thanksgiving</th>\n",
       "      <th>Year</th>\n",
       "      <th>Month</th>\n",
       "      <th>Quarter</th>\n",
       "    </tr>\n",
       "  </thead>\n",
       "  <tbody>\n",
       "    <tr>\n",
       "      <th>0</th>\n",
       "      <td>1</td>\n",
       "      <td>2010-05-02</td>\n",
       "      <td>1643690.90</td>\n",
       "      <td>0</td>\n",
       "      <td>42.31</td>\n",
       "      <td>2.572</td>\n",
       "      <td>211.096358</td>\n",
       "      <td>8.106</td>\n",
       "      <td>0</td>\n",
       "      <td>0</td>\n",
       "      <td>0</td>\n",
       "      <td>0</td>\n",
       "      <td>2010</td>\n",
       "      <td>5</td>\n",
       "      <td>2</td>\n",
       "    </tr>\n",
       "    <tr>\n",
       "      <th>1</th>\n",
       "      <td>1</td>\n",
       "      <td>2010-12-02</td>\n",
       "      <td>1641957.44</td>\n",
       "      <td>1</td>\n",
       "      <td>38.51</td>\n",
       "      <td>2.548</td>\n",
       "      <td>211.242170</td>\n",
       "      <td>8.106</td>\n",
       "      <td>0</td>\n",
       "      <td>0</td>\n",
       "      <td>0</td>\n",
       "      <td>0</td>\n",
       "      <td>2010</td>\n",
       "      <td>12</td>\n",
       "      <td>4</td>\n",
       "    </tr>\n",
       "    <tr>\n",
       "      <th>2</th>\n",
       "      <td>1</td>\n",
       "      <td>2010-02-19</td>\n",
       "      <td>1611968.17</td>\n",
       "      <td>0</td>\n",
       "      <td>39.93</td>\n",
       "      <td>2.514</td>\n",
       "      <td>211.289143</td>\n",
       "      <td>8.106</td>\n",
       "      <td>0</td>\n",
       "      <td>0</td>\n",
       "      <td>0</td>\n",
       "      <td>0</td>\n",
       "      <td>2010</td>\n",
       "      <td>2</td>\n",
       "      <td>1</td>\n",
       "    </tr>\n",
       "  </tbody>\n",
       "</table>\n",
       "</div>"
      ],
      "text/plain": [
       "   Store       Date  Weekly_Sales  Holiday_Flag  Temperature  Fuel_Price  \\\n",
       "0      1 2010-05-02    1643690.90             0        42.31       2.572   \n",
       "1      1 2010-12-02    1641957.44             1        38.51       2.548   \n",
       "2      1 2010-02-19    1611968.17             0        39.93       2.514   \n",
       "\n",
       "          CPI  Unemployment  Superbowl  Labor_Day  Christmas  Thanksgiving  \\\n",
       "0  211.096358         8.106          0          0          0             0   \n",
       "1  211.242170         8.106          0          0          0             0   \n",
       "2  211.289143         8.106          0          0          0             0   \n",
       "\n",
       "   Year  Month  Quarter  \n",
       "0  2010      5        2  \n",
       "1  2010     12        4  \n",
       "2  2010      2        1  "
      ]
     },
     "execution_count": 22,
     "metadata": {},
     "output_type": "execute_result"
    }
   ],
   "source": [
    "data['Year'] = data['Date'].dt.year\n",
    "data['Month'] = data['Date'].dt.month\n",
    "data['Quarter'] = data['Date'].dt.quarter\n",
    "\n",
    "data.drop(columns = 'DateType', inplace = True)\n",
    "\n",
    "data.head(3)"
   ]
  },
  {
   "cell_type": "code",
   "execution_count": 23,
   "id": "502ca316-f2be-40e5-bb7c-f9a67e0d0364",
   "metadata": {},
   "outputs": [
    {
     "data": {
      "text/plain": [
       "Store\n",
       "4     25652119.35\n",
       "20    24665938.11\n",
       "13    24319994.35\n",
       "Name: Weekly_Sales, dtype: float64"
      ]
     },
     "execution_count": 23,
     "metadata": {},
     "output_type": "execute_result"
    }
   ],
   "source": [
    "q3 = data[(data['Quarter'] == 3) & (data['Year'] == 2012)].groupby('Store')['Weekly_Sales'].sum().sort_values(ascending = False)\n",
    "q3.head(3)"
   ]
  },
  {
   "cell_type": "code",
   "execution_count": null,
   "id": "f6812fff-8e30-4828-bb57-f18266427bc7",
   "metadata": {},
   "outputs": [],
   "source": [
    "-In comparison to other retailers, Store 4 had a strong quarterly growth rate in Q3 \n",
    " of 2012, with a maximum profit of 25652119.35."
   ]
  },
  {
   "cell_type": "code",
   "execution_count": null,
   "id": "ae9a3aac-91cb-49e2-93f9-ff5ab0941211",
   "metadata": {},
   "outputs": [],
   "source": [
    "Growth Rate :\n",
    "-The formula for calculating growth rate is the ratio of current value to past value \n",
    " divided by past value as a whole and multiplied by 100. (since it is in percentage)\n",
    "-((Present value — Past value )/Past value )*100"
   ]
  },
  {
   "cell_type": "code",
   "execution_count": 24,
   "id": "7e3dad63-dc0f-4526-a708-e4853e77caef",
   "metadata": {},
   "outputs": [
    {
     "data": {
      "text/html": [
       "<div>\n",
       "<style scoped>\n",
       "    .dataframe tbody tr th:only-of-type {\n",
       "        vertical-align: middle;\n",
       "    }\n",
       "\n",
       "    .dataframe tbody tr th {\n",
       "        vertical-align: top;\n",
       "    }\n",
       "\n",
       "    .dataframe thead th {\n",
       "        text-align: right;\n",
       "    }\n",
       "</style>\n",
       "<table border=\"1\" class=\"dataframe\">\n",
       "  <thead>\n",
       "    <tr style=\"text-align: right;\">\n",
       "      <th></th>\n",
       "      <th>Store</th>\n",
       "      <th>Q2_Weekly_Sales</th>\n",
       "      <th>Q3_Weekly_Sales</th>\n",
       "      <th>Growth_Rate</th>\n",
       "    </tr>\n",
       "  </thead>\n",
       "  <tbody>\n",
       "    <tr>\n",
       "      <th>15</th>\n",
       "      <td>16</td>\n",
       "      <td>6626133.44</td>\n",
       "      <td>6441311.11</td>\n",
       "      <td>-0.03</td>\n",
       "    </tr>\n",
       "    <tr>\n",
       "      <th>6</th>\n",
       "      <td>7</td>\n",
       "      <td>7613593.92</td>\n",
       "      <td>7322393.92</td>\n",
       "      <td>-0.04</td>\n",
       "    </tr>\n",
       "    <tr>\n",
       "      <th>34</th>\n",
       "      <td>35</td>\n",
       "      <td>10753570.97</td>\n",
       "      <td>10252122.68</td>\n",
       "      <td>-0.05</td>\n",
       "    </tr>\n",
       "  </tbody>\n",
       "</table>\n",
       "</div>"
      ],
      "text/plain": [
       "    Store  Q2_Weekly_Sales  Q3_Weekly_Sales  Growth_Rate\n",
       "15     16       6626133.44       6441311.11        -0.03\n",
       "6       7       7613593.92       7322393.92        -0.04\n",
       "34     35      10753570.97      10252122.68        -0.05"
      ]
     },
     "execution_count": 24,
     "metadata": {},
     "output_type": "execute_result"
    }
   ],
   "source": [
    "Q3_date_from = pd.Timestamp(date(2012, 7, 1))\n",
    "Q3_date_to = pd.Timestamp(date(2012, 9, 30))\n",
    "Q2_date_from = pd.Timestamp(date(2012, 4, 1))\n",
    "Q2_date_to = pd.Timestamp(date(2012, 6, 30))\n",
    "\n",
    "#Collecting the data of Q3 and Q2 from original dataset.\n",
    "Q2data = data[(data['Date'] > Q2_date_from) & (data['Date'] < Q2_date_to)]\n",
    "Q3data = data[(data['Date'] > Q3_date_from) & (data['Date'] < Q3_date_to)]\n",
    "\n",
    "#finding the sum weekly sales of each store in Q2\n",
    "Q2 = pd.DataFrame(Q2data.groupby('Store')['Weekly_Sales'].sum())\n",
    "Q2.reset_index(inplace=True)\n",
    "Q2.rename(columns={'Weekly_Sales': 'Q2_Weekly_Sales'},inplace = True)\n",
    "\n",
    "#finding the sum weekly sales of each store in Q2\n",
    "Q3 = pd.DataFrame(Q3data.groupby('Store')['Weekly_Sales'].sum())\n",
    "Q3.reset_index(inplace=True)\n",
    "Q3.rename(columns = {'Weekly_Sales': 'Q3_Weekly_Sales'},inplace = True)\n",
    "\n",
    "#mergeing Q2 and Q3 data on Store as a common column\n",
    "Q3_Growth= Q2.merge(Q3,how =  'inner',on = 'Store')\n",
    "\n",
    "#Calculating Growth rate of each Store and collecting it into a dataframe  \n",
    "Q3_Growth['Growth_Rate'] = (Q3_Growth['Q3_Weekly_Sales'] - Q3_Growth['Q2_Weekly_Sales']) / Q3_Growth['Q2_Weekly_Sales']\n",
    "Q3_Growth['Growth_Rate'] = round(Q3_Growth['Growth_Rate'],2)\n",
    "Q3_Growth.sort_values('Growth_Rate',ascending = False).head(3)"
   ]
  },
  {
   "cell_type": "code",
   "execution_count": 25,
   "id": "93edc873-3959-4971-93aa-c55701361a14",
   "metadata": {},
   "outputs": [
    {
     "data": {
      "text/html": [
       "<div>\n",
       "<style scoped>\n",
       "    .dataframe tbody tr th:only-of-type {\n",
       "        vertical-align: middle;\n",
       "    }\n",
       "\n",
       "    .dataframe tbody tr th {\n",
       "        vertical-align: top;\n",
       "    }\n",
       "\n",
       "    .dataframe thead th {\n",
       "        text-align: right;\n",
       "    }\n",
       "</style>\n",
       "<table border=\"1\" class=\"dataframe\">\n",
       "  <thead>\n",
       "    <tr style=\"text-align: right;\">\n",
       "      <th></th>\n",
       "      <th>Store</th>\n",
       "      <th>Q2_Weekly_Sales</th>\n",
       "      <th>Q3_Weekly_Sales</th>\n",
       "      <th>Growth_Rate</th>\n",
       "    </tr>\n",
       "  </thead>\n",
       "  <tbody>\n",
       "    <tr>\n",
       "      <th>35</th>\n",
       "      <td>36</td>\n",
       "      <td>4090378.90</td>\n",
       "      <td>3578123.58</td>\n",
       "      <td>-0.13</td>\n",
       "    </tr>\n",
       "    <tr>\n",
       "      <th>44</th>\n",
       "      <td>45</td>\n",
       "      <td>10278900.05</td>\n",
       "      <td>8851242.32</td>\n",
       "      <td>-0.14</td>\n",
       "    </tr>\n",
       "    <tr>\n",
       "      <th>13</th>\n",
       "      <td>14</td>\n",
       "      <td>24427769.06</td>\n",
       "      <td>20140430.40</td>\n",
       "      <td>-0.18</td>\n",
       "    </tr>\n",
       "  </tbody>\n",
       "</table>\n",
       "</div>"
      ],
      "text/plain": [
       "    Store  Q2_Weekly_Sales  Q3_Weekly_Sales  Growth_Rate\n",
       "35     36       4090378.90       3578123.58        -0.13\n",
       "44     45      10278900.05       8851242.32        -0.14\n",
       "13     14      24427769.06      20140430.40        -0.18"
      ]
     },
     "execution_count": 25,
     "metadata": {},
     "output_type": "execute_result"
    }
   ],
   "source": [
    "Q3_Growth.sort_values('Growth_Rate',ascending = False).tail(3)"
   ]
  },
  {
   "cell_type": "code",
   "execution_count": null,
   "id": "7f64e59c-95ef-46d1-b8c6-102854dd7b36",
   "metadata": {},
   "outputs": [],
   "source": [
    "-From above information we can say that Q3 growth rate is in loss.\n",
    "-Store 16 has the least loss of 3% compared with other stores.\n",
    "-Store 14 has the highest loss total of 18%"
   ]
  },
  {
   "cell_type": "code",
   "execution_count": null,
   "id": "b590e78f-e983-48d9-8b24-f36e3e1285c2",
   "metadata": {},
   "outputs": [],
   "source": [
    "4. Some holidays have a negative impact on sales. Find out holidays which have higher \n",
    "sales than the mean sales in non-holiday season for all stores together"
   ]
  },
  {
   "cell_type": "code",
   "execution_count": 26,
   "id": "38f7c419-39c2-47a9-84ff-b6038a63c266",
   "metadata": {},
   "outputs": [
    {
     "data": {
      "text/plain": [
       "Holiday_Flag\n",
       "0    6.231919e+09\n",
       "1    5.052996e+08\n",
       "Name: Weekly_Sales, dtype: float64"
      ]
     },
     "execution_count": 26,
     "metadata": {},
     "output_type": "execute_result"
    }
   ],
   "source": [
    "round(data.groupby(['Holiday_Flag'])['Weekly_Sales'].sum(),1)"
   ]
  },
  {
   "cell_type": "code",
   "execution_count": 27,
   "id": "0cdd781c-c91c-4933-8a48-a3933766854c",
   "metadata": {},
   "outputs": [
    {
     "name": "stdout",
     "output_type": "stream",
     "text": [
      "0 : 6231919000.0\n",
      "1 : 505299600.0\n"
     ]
    }
   ],
   "source": [
    "print('0 :', 6.231919e+09)\n",
    "print('1 :', 5.052996e+08)"
   ]
  },
  {
   "cell_type": "code",
   "execution_count": 28,
   "id": "c18b0d15-1b2b-4a94-ad43-1a7272b8a3e9",
   "metadata": {},
   "outputs": [
    {
     "name": "stdout",
     "output_type": "stream",
     "text": [
      "Superbowl\n",
      "0    1046964.88\n",
      "Name: Weekly_Sales, dtype: float64\n",
      "Labor_Day\n",
      "0    1047019.68\n",
      "1    1039182.83\n",
      "Name: Weekly_Sales, dtype: float64\n",
      "Thanksgiving\n",
      "0    1040946.32\n",
      "1    1471273.43\n",
      "Name: Weekly_Sales, dtype: float64\n",
      "Christmas\n",
      "0    1048186.60\n",
      "1     960833.11\n",
      "Name: Weekly_Sales, dtype: float64\n",
      "Holiday_Flag\n",
      "0    1041256.38\n",
      "Name: Weekly_Sales, dtype: float64\n"
     ]
    }
   ],
   "source": [
    "Spr_sales = data.groupby(['Superbowl'])['Weekly_Sales'].mean()\n",
    "\n",
    "Ld_sales = data.groupby(['Labor_Day'])['Weekly_Sales'].mean()\n",
    "\n",
    "Thanksg_sales = data.groupby(['Thanksgiving'])['Weekly_Sales'].mean()\n",
    "\n",
    "Christmas_sales = data.groupby(['Christmas'])['Weekly_Sales'].mean()\n",
    "\n",
    "Non_Holi_Sales = data[(data['Holiday_Flag'] == 0)].groupby('Holiday_Flag')['Weekly_Sales'].mean()\n",
    "\n",
    "\n",
    "print(round(Spr_sales, 2))\n",
    "print(round(Ld_sales, 2))\n",
    "print(round(Thanksg_sales, 2))\n",
    "print(round(Christmas_sales, 2))\n",
    "print(round(Non_Holi_Sales, 2))"
   ]
  },
  {
   "cell_type": "code",
   "execution_count": null,
   "id": "105e9828-dd93-49d0-9bc7-ff0eb2f2d9a4",
   "metadata": {},
   "outputs": [],
   "source": [
    "Visualizing :\n",
    "1.Sales in Super Bowl holiday"
   ]
  },
  {
   "cell_type": "code",
   "execution_count": 29,
   "id": "ead90e26-b0a3-4866-9b94-b546d21df503",
   "metadata": {},
   "outputs": [
    {
     "data": {
      "image/png": "[encoded data removed]",
      "text/plain": [
       "<Figure size 720x432 with 1 Axes>"
      ]
     },
     "metadata": {},
     "output_type": "display_data"
    }
   ],
   "source": [
    "plt.style.use('seaborn-whitegrid')\n",
    "plt.figure(figsize = (10, 6))\n",
    "Spr_sales.plot(kind = 'bar', legend = False, title = 'Sales in Super Bowl holiday', color = 'thistle')\n",
    "plt.show()"
   ]
  },
  {
   "cell_type": "code",
   "execution_count": null,
   "id": "15f429da-6c53-48cb-aaad-e8bd48d90bb8",
   "metadata": {},
   "outputs": [],
   "source": [
    "2.Sales in Labor Day holiday"
   ]
  },
  {
   "cell_type": "code",
   "execution_count": 30,
   "id": "81c2a26c-32da-47cb-a9cd-4e456a2b3a25",
   "metadata": {},
   "outputs": [
    {
     "data": {
      "image/png": "[encoded data removed]",
      "text/plain": [
       "<Figure size 720x432 with 1 Axes>"
      ]
     },
     "metadata": {},
     "output_type": "display_data"
    }
   ],
   "source": [
    "plt.figure(figsize = (10, 6))\n",
    "Ld_sales.plot(kind = 'bar', legend = False, title = 'Sales in Labour Day holiday', color = ['plum','lavender'])\n",
    "plt.show()"
   ]
  },
  {
   "cell_type": "code",
   "execution_count": null,
   "id": "9c4caed8-dbc9-4682-88ba-da72f453d24d",
   "metadata": {},
   "outputs": [],
   "source": [
    "3.Sales in Thanksgiving holiday."
   ]
  },
  {
   "cell_type": "code",
   "execution_count": 31,
   "id": "b4b47199-9624-4936-80cf-76c1a43160ce",
   "metadata": {},
   "outputs": [
    {
     "data": {
      "image/png": "[encoded data removed]",
      "text/plain": [
       "<Figure size 720x432 with 1 Axes>"
      ]
     },
     "metadata": {},
     "output_type": "display_data"
    }
   ],
   "source": [
    "plt.figure(figsize = (10, 6))\n",
    "Thanksg_sales.plot(kind = 'bar', legend = False, title = 'Sales in Thanksgiving holiday', color = ['powderblue','skyblue'])\n",
    "plt.show()"
   ]
  },
  {
   "cell_type": "code",
   "execution_count": null,
   "id": "6c37c1ee-9548-4a79-966d-952343f2f0b9",
   "metadata": {},
   "outputs": [],
   "source": [
    "4.Sales in Christmas holiday"
   ]
  },
  {
   "cell_type": "code",
   "execution_count": 32,
   "id": "5e68cd78-a571-4993-8d46-587267f681f6",
   "metadata": {},
   "outputs": [
    {
     "data": {
      "image/png": "[encoded data removed]",
      "text/plain": [
       "<Figure size 720x432 with 1 Axes>"
      ]
     },
     "metadata": {},
     "output_type": "display_data"
    }
   ],
   "source": [
    "plt.figure(figsize = (10, 6))\n",
    "Christmas_sales.plot(kind = 'bar', legend = False, title = 'Sales in Christmas holiday', color = ['plum','lavender'])\n",
    "plt.show()"
   ]
  },
  {
   "cell_type": "code",
   "execution_count": null,
   "id": "7ac5188c-85e0-4940-b8c6-ae96b609bdc9",
   "metadata": {},
   "outputs": [],
   "source": [
    "5.Non Holiday Sales."
   ]
  },
  {
   "cell_type": "code",
   "execution_count": 33,
   "id": "f14eac8a-a335-496d-ab8d-bce79806df92",
   "metadata": {},
   "outputs": [
    {
     "data": {
      "image/png": "[encoded data removed]",
      "text/plain": [
       "<Figure size 720x432 with 1 Axes>"
      ]
     },
     "metadata": {},
     "output_type": "display_data"
    }
   ],
   "source": [
    "plt.figure(figsize = (10, 6))\n",
    "Non_Holi_Sales.plot(kind = 'bar', legend = False, title = 'Sales in Non-holiday', color = 'lavender')\n",
    "plt.show()"
   ]
  },
  {
   "cell_type": "code",
   "execution_count": null,
   "id": "170476e0-515e-408e-8378-80d6f01fdb90",
   "metadata": {},
   "outputs": [],
   "source": [
    "5.Provide a monthly and semester view of sales in units and give insights.\n",
    "\n",
    "I.Monthly sales view"
   ]
  },
  {
   "cell_type": "code",
   "execution_count": 34,
   "id": "7a79b886-f1b7-4bd8-b59e-d83d79604efd",
   "metadata": {},
   "outputs": [
    {
     "data": {
      "image/png": "[encoded data removed]",
      "text/plain": [
       "<Figure size 1040x480 with 1 Axes>"
      ]
     },
     "metadata": {},
     "output_type": "display_data"
    }
   ],
   "source": [
    "monthly = data.groupby(pd.Grouper(key = 'Date', freq = '1M')).sum()\n",
    "monthly = monthly.reset_index()\n",
    "fig, ax = plt.subplots(figsize=(13,6), dpi = 80)\n",
    "X = monthly['Date']\n",
    "Y = monthly['Weekly_Sales']\n",
    "plt.plot(X,Y, color = 'plum')\n",
    "plt.title('Month Wise Sales')\n",
    "plt.xlabel('Monthly')\n",
    "plt.ylabel('Weekly Sales')\n",
    "plt.legend(['Sales'])\n",
    "plt.show()"
   ]
  },
  {
   "cell_type": "code",
   "execution_count": null,
   "id": "9e445a79-1aa7-4d3a-b253-5c14105f2743",
   "metadata": {},
   "outputs": [],
   "source": [
    "II.Semester wise sales view"
   ]
  },
  {
   "cell_type": "code",
   "execution_count": 35,
   "id": "797fa7df-aa18-4cc9-a419-b64a0d0089fc",
   "metadata": {},
   "outputs": [
    {
     "data": {
      "image/png": "[encoded data removed]",
      "text/plain": [
       "<Figure size 1040x480 with 1 Axes>"
      ]
     },
     "metadata": {},
     "output_type": "display_data"
    }
   ],
   "source": [
    "Semester = data.groupby(pd.Grouper(key='Date', freq='6M')).sum()\n",
    "Semester = Semester.reset_index()\n",
    "fig, ax = plt.subplots(figsize=(13,6), dpi = 80)\n",
    "X = Semester['Date']\n",
    "Y = Semester['Weekly_Sales']\n",
    "plt.plot(X,Y)\n",
    "plt.title('Semester Wise Sales')\n",
    "plt.xlabel('Semester')\n",
    "plt.ylabel('Weekly Sales')\n",
    "plt.legend('Sales')\n",
    "plt.show()"
   ]
  },
  {
   "cell_type": "code",
   "execution_count": null,
   "id": "5853aa0f-9eda-4231-99c9-babf74f5b904",
   "metadata": {},
   "outputs": [],
   "source": [
    "-We can infer that there's a big spike in sales from February-2010 to February-2011. \n",
    " Exactly for one year we can say.\n",
    "-Then spike goes bit down in February-2011 after that again there are few ups-downs in \n",
    " further.\n",
    "-From August-2012 sales goes down. - We can acknowledge that there is loss in sales."
   ]
  },
  {
   "cell_type": "code",
   "execution_count": null,
   "id": "998faf60-c920-4e61-b8ef-99f0455b45b9",
   "metadata": {},
   "outputs": [],
   "source": [
    "For Store 1 – Build prediction models to forecast demand"
   ]
  },
  {
   "cell_type": "code",
   "execution_count": 36,
   "id": "86afa6f5-51e8-4499-974b-3674ea7b8b3f",
   "metadata": {},
   "outputs": [],
   "source": [
    "data.drop(columns = ['Superbowl', 'Labor_Day', 'Christmas', 'Thanksgiving'], inplace = True)"
   ]
  },
  {
   "cell_type": "code",
   "execution_count": 37,
   "id": "f93d27d8-6aa9-463d-9529-71d5f5b3bb7e",
   "metadata": {},
   "outputs": [],
   "source": [
    "from sklearn.ensemble import RandomForestRegressor\n",
    "from sklearn.model_selection import train_test_split\n",
    "from sklearn import metrics\n",
    "from sklearn.linear_model import LinearRegression\n",
    "from sklearn.preprocessing import LabelEncoder"
   ]
  },
  {
   "cell_type": "code",
   "execution_count": 38,
   "id": "bc730072-d94a-465f-bc19-93742023fa12",
   "metadata": {},
   "outputs": [
    {
     "data": {
      "text/plain": [
       "0        1\n",
       "1        1\n",
       "2        1\n",
       "3        1\n",
       "4        1\n",
       "        ..\n",
       "6430    45\n",
       "6431    45\n",
       "6432    45\n",
       "6433    45\n",
       "6434    45\n",
       "Name: Store, Length: 6435, dtype: int64"
      ]
     },
     "execution_count": 38,
     "metadata": {},
     "output_type": "execute_result"
    }
   ],
   "source": [
    "data['Store']"
   ]
  },
  {
   "cell_type": "code",
   "execution_count": 39,
   "id": "443c67f4-e9b2-41da-8eea-46c4b28af04e",
   "metadata": {},
   "outputs": [
    {
     "data": {
      "text/plain": [
       "0        Store 1\n",
       "1        Store 1\n",
       "2        Store 1\n",
       "3        Store 1\n",
       "4        Store 1\n",
       "          ...   \n",
       "6430    Store 45\n",
       "6431    Store 45\n",
       "6432    Store 45\n",
       "6433    Store 45\n",
       "6434    Store 45\n",
       "Name: Store, Length: 6435, dtype: object"
      ]
     },
     "execution_count": 39,
     "metadata": {},
     "output_type": "execute_result"
    }
   ],
   "source": [
    "data['Store'] = data['Store'].astype(str)\n",
    "data['Store'] = 'Store ' + data['Store'].astype(str)\n",
    "\n",
    "data.Store"
   ]
  },
  {
   "cell_type": "code",
   "execution_count": 40,
   "id": "7fdcc51b-f70d-48c2-98de-e9e7c9e1974a",
   "metadata": {},
   "outputs": [
    {
     "data": {
      "text/html": [
       "<div>\n",
       "<style scoped>\n",
       "    .dataframe tbody tr th:only-of-type {\n",
       "        vertical-align: middle;\n",
       "    }\n",
       "\n",
       "    .dataframe tbody tr th {\n",
       "        vertical-align: top;\n",
       "    }\n",
       "\n",
       "    .dataframe thead th {\n",
       "        text-align: right;\n",
       "    }\n",
       "</style>\n",
       "<table border=\"1\" class=\"dataframe\">\n",
       "  <thead>\n",
       "    <tr style=\"text-align: right;\">\n",
       "      <th></th>\n",
       "      <th>Store</th>\n",
       "      <th>Date</th>\n",
       "      <th>Weekly_Sales</th>\n",
       "      <th>Holiday_Flag</th>\n",
       "      <th>Temperature</th>\n",
       "      <th>Fuel_Price</th>\n",
       "      <th>CPI</th>\n",
       "      <th>Unemployment</th>\n",
       "      <th>Year</th>\n",
       "      <th>Month</th>\n",
       "      <th>Quarter</th>\n",
       "    </tr>\n",
       "  </thead>\n",
       "  <tbody>\n",
       "    <tr>\n",
       "      <th>0</th>\n",
       "      <td>Store 1</td>\n",
       "      <td>2010-05-02</td>\n",
       "      <td>1643690.90</td>\n",
       "      <td>0</td>\n",
       "      <td>42.31</td>\n",
       "      <td>2.572</td>\n",
       "      <td>211.096358</td>\n",
       "      <td>8.106</td>\n",
       "      <td>2010</td>\n",
       "      <td>5</td>\n",
       "      <td>2</td>\n",
       "    </tr>\n",
       "    <tr>\n",
       "      <th>1</th>\n",
       "      <td>Store 1</td>\n",
       "      <td>2010-12-02</td>\n",
       "      <td>1641957.44</td>\n",
       "      <td>1</td>\n",
       "      <td>38.51</td>\n",
       "      <td>2.548</td>\n",
       "      <td>211.242170</td>\n",
       "      <td>8.106</td>\n",
       "      <td>2010</td>\n",
       "      <td>12</td>\n",
       "      <td>4</td>\n",
       "    </tr>\n",
       "    <tr>\n",
       "      <th>2</th>\n",
       "      <td>Store 1</td>\n",
       "      <td>2010-02-19</td>\n",
       "      <td>1611968.17</td>\n",
       "      <td>0</td>\n",
       "      <td>39.93</td>\n",
       "      <td>2.514</td>\n",
       "      <td>211.289143</td>\n",
       "      <td>8.106</td>\n",
       "      <td>2010</td>\n",
       "      <td>2</td>\n",
       "      <td>1</td>\n",
       "    </tr>\n",
       "    <tr>\n",
       "      <th>3</th>\n",
       "      <td>Store 1</td>\n",
       "      <td>2010-02-26</td>\n",
       "      <td>1409727.59</td>\n",
       "      <td>0</td>\n",
       "      <td>46.63</td>\n",
       "      <td>2.561</td>\n",
       "      <td>211.319643</td>\n",
       "      <td>8.106</td>\n",
       "      <td>2010</td>\n",
       "      <td>2</td>\n",
       "      <td>1</td>\n",
       "    </tr>\n",
       "    <tr>\n",
       "      <th>4</th>\n",
       "      <td>Store 1</td>\n",
       "      <td>2010-05-03</td>\n",
       "      <td>1554806.68</td>\n",
       "      <td>0</td>\n",
       "      <td>46.50</td>\n",
       "      <td>2.625</td>\n",
       "      <td>211.350143</td>\n",
       "      <td>8.106</td>\n",
       "      <td>2010</td>\n",
       "      <td>5</td>\n",
       "      <td>2</td>\n",
       "    </tr>\n",
       "  </tbody>\n",
       "</table>\n",
       "</div>"
      ],
      "text/plain": [
       "     Store       Date  Weekly_Sales  Holiday_Flag  Temperature  Fuel_Price  \\\n",
       "0  Store 1 2010-05-02    1643690.90             0        42.31       2.572   \n",
       "1  Store 1 2010-12-02    1641957.44             1        38.51       2.548   \n",
       "2  Store 1 2010-02-19    1611968.17             0        39.93       2.514   \n",
       "3  Store 1 2010-02-26    1409727.59             0        46.63       2.561   \n",
       "4  Store 1 2010-05-03    1554806.68             0        46.50       2.625   \n",
       "\n",
       "          CPI  Unemployment  Year  Month  Quarter  \n",
       "0  211.096358         8.106  2010      5        2  \n",
       "1  211.242170         8.106  2010     12        4  \n",
       "2  211.289143         8.106  2010      2        1  \n",
       "3  211.319643         8.106  2010      2        1  \n",
       "4  211.350143         8.106  2010      5        2  "
      ]
     },
     "execution_count": 40,
     "metadata": {},
     "output_type": "execute_result"
    }
   ],
   "source": [
    "labelEncod = LabelEncoder()\n",
    "store_1 = data[data['Store'] == 'Store 1']\n",
    "store_1 = store_1.copy()\n",
    "\n",
    "store_1.head()"
   ]
  },
  {
   "cell_type": "code",
   "execution_count": 41,
   "id": "afb7dd0d-d7c4-4fef-9404-f5bade090c9d",
   "metadata": {},
   "outputs": [],
   "source": [
    "store_1['Days'] = labelEncod.fit_transform(store_1['Date'])\n",
    "store_1.drop(['Store','Date','Holiday_Flag','Year','Month','Quarter'], axis=1 , inplace = True)"
   ]
  },
  {
   "cell_type": "code",
   "execution_count": 42,
   "id": "eb368c8b-e89a-4f2b-aa3f-b5737368ce91",
   "metadata": {},
   "outputs": [
    {
     "data": {
      "image/png": "[encoded data removed]",
      "text/plain": [
       "<Figure size 1040x640 with 2 Axes>"
      ]
     },
     "metadata": {},
     "output_type": "display_data"
    }
   ],
   "source": [
    "import seaborn as sns\n",
    "corr = store_1.corr()\n",
    "plt.figure(figsize = (13,8), dpi = 80)\n",
    "corrmap = sns.heatmap(store_1.corr(), cmap = 'PuBuGn_r', annot = True)\n",
    "corrmap\n",
    "plt.show()"
   ]
  },
  {
   "cell_type": "code",
   "execution_count": null,
   "id": "550c0e83-8609-4eb4-85d0-21478a8979cf",
   "metadata": {},
   "outputs": [],
   "source": [
    "Hypothesize if CPI, unemployment, and fuel price have any impact on sales."
   ]
  },
  {
   "cell_type": "code",
   "execution_count": null,
   "id": "e5abb0d2-2ab1-4742-8e22-5eb4eed3b18b",
   "metadata": {},
   "outputs": [],
   "source": [
    "Model Building : Linear Regression"
   ]
  },
  {
   "cell_type": "code",
   "execution_count": null,
   "id": "185a897a-2e2e-4875-b24d-3381805a7e66",
   "metadata": {},
   "outputs": [],
   "source": [
    "-As we can see Unemployment is profoundly related with days and is inconsequential as \n",
    " it relationship with Week after week Deals is very low.\n",
    "-Additionally temperature and Unemployment are adversely influencing the deals .\n",
    "-Anyway Fuel Cost and CPI are positively affecting the Deals."
   ]
  },
  {
   "cell_type": "code",
   "execution_count": 43,
   "id": "10e51196-308b-49e5-9072-a238ee813d5e",
   "metadata": {},
   "outputs": [
    {
     "name": "stdout",
     "output_type": "stream",
     "text": [
      "Shape of X_train : (114, 4)\n",
      "Shape of y_train : (114,)\n",
      "----------------------------------------\n",
      "Shape of X_test : (29, 4)\n",
      "Shape of y_test : (29,)\n"
     ]
    }
   ],
   "source": [
    "from sklearn.model_selection import train_test_split\n",
    "\n",
    "X = store_1[['Days', 'Fuel_Price', 'CPI', 'Unemployment']]\n",
    "y = store_1['Weekly_Sales']\n",
    "\n",
    "X_train, X_test, y_train, y_test = train_test_split(X, y, test_size = 0.20, random_state = 123)\n",
    "\n",
    "\n",
    "print('Shape of X_train :', X_train.shape)\n",
    "print('Shape of y_train :', y_train.shape)\n",
    "print('-'*40)\n",
    "print('Shape of X_test :', X_test.shape)\n",
    "print('Shape of y_test :', y_test.shape)"
   ]
  },
  {
   "cell_type": "code",
   "execution_count": 44,
   "id": "f03bc235-bd75-450e-b657-edfae741d81a",
   "metadata": {},
   "outputs": [
    {
     "data": {
      "text/html": [
       "<style>#sk-container-id-1 {color: black;}#sk-container-id-1 pre{padding: 0;}#sk-container-id-1 div.sk-toggleable {background-color: white;}#sk-container-id-1 label.sk-toggleable__label {cursor: pointer;display: block;width: 100%;margin-bottom: 0;padding: 0.3em;box-sizing: border-box;text-align: center;}#sk-container-id-1 label.sk-toggleable__label-arrow:before {content: \"▸\";float: left;margin-right: 0.25em;color: #696969;}#sk-container-id-1 label.sk-toggleable__label-arrow:hover:before {color: black;}#sk-container-id-1 div.sk-estimator:hover label.sk-toggleable__label-arrow:before {color: black;}#sk-container-id-1 div.sk-toggleable__content {max-height: 0;max-width: 0;overflow: hidden;text-align: left;background-color: #f0f8ff;}#sk-container-id-1 div.sk-toggleable__content pre {margin: 0.2em;color: black;border-radius: 0.25em;background-color: #f0f8ff;}#sk-container-id-1 input.sk-toggleable__control:checked~div.sk-toggleable__content {max-height: 200px;max-width: 100%;overflow: auto;}#sk-container-id-1 input.sk-toggleable__control:checked~label.sk-toggleable__label-arrow:before {content: \"▾\";}#sk-container-id-1 div.sk-estimator input.sk-toggleable__control:checked~label.sk-toggleable__label {background-color: #d4ebff;}#sk-container-id-1 div.sk-label input.sk-toggleable__control:checked~label.sk-toggleable__label {background-color: #d4ebff;}#sk-container-id-1 input.sk-hidden--visually {border: 0;clip: rect(1px 1px 1px 1px);clip: rect(1px, 1px, 1px, 1px);height: 1px;margin: -1px;overflow: hidden;padding: 0;position: absolute;width: 1px;}#sk-container-id-1 div.sk-estimator {font-family: monospace;background-color: #f0f8ff;border: 1px dotted black;border-radius: 0.25em;box-sizing: border-box;margin-bottom: 0.5em;}#sk-container-id-1 div.sk-estimator:hover {background-color: #d4ebff;}#sk-container-id-1 div.sk-parallel-item::after {content: \"\";width: 100%;border-bottom: 1px solid gray;flex-grow: 1;}#sk-container-id-1 div.sk-label:hover label.sk-toggleable__label {background-color: #d4ebff;}#sk-container-id-1 div.sk-serial::before {content: \"\";position: absolute;border-left: 1px solid gray;box-sizing: border-box;top: 0;bottom: 0;left: 50%;z-index: 0;}#sk-container-id-1 div.sk-serial {display: flex;flex-direction: column;align-items: center;background-color: white;padding-right: 0.2em;padding-left: 0.2em;position: relative;}#sk-container-id-1 div.sk-item {position: relative;z-index: 1;}#sk-container-id-1 div.sk-parallel {display: flex;align-items: stretch;justify-content: center;background-color: white;position: relative;}#sk-container-id-1 div.sk-item::before, #sk-container-id-1 div.sk-parallel-item::before {content: \"\";position: absolute;border-left: 1px solid gray;box-sizing: border-box;top: 0;bottom: 0;left: 50%;z-index: -1;}#sk-container-id-1 div.sk-parallel-item {display: flex;flex-direction: column;z-index: 1;position: relative;background-color: white;}#sk-container-id-1 div.sk-parallel-item:first-child::after {align-self: flex-end;width: 50%;}#sk-container-id-1 div.sk-parallel-item:last-child::after {align-self: flex-start;width: 50%;}#sk-container-id-1 div.sk-parallel-item:only-child::after {width: 0;}#sk-container-id-1 div.sk-dashed-wrapped {border: 1px dashed gray;margin: 0 0.4em 0.5em 0.4em;box-sizing: border-box;padding-bottom: 0.4em;background-color: white;}#sk-container-id-1 div.sk-label label {font-family: monospace;font-weight: bold;display: inline-block;line-height: 1.2em;}#sk-container-id-1 div.sk-label-container {text-align: center;}#sk-container-id-1 div.sk-container {/* jupyter's `normalize.less` sets `[hidden] { display: none; }` but bootstrap.min.css set `[hidden] { display: none !important; }` so we also need the `!important` here to be able to override the default hidden behavior on the sphinx rendered scikit-learn.org. See: https://github.com/scikit-learn/scikit-learn/issues/21755 */display: inline-block !important;position: relative;}#sk-container-id-1 div.sk-text-repr-fallback {display: none;}</style><div id=\"sk-container-id-1\" class=\"sk-top-container\"><div class=\"sk-text-repr-fallback\"><pre>LinearRegression()</pre><b>In a Jupyter environment, please rerun this cell to show the HTML representation or trust the notebook. <br />On GitHub, the HTML representation is unable to render, please try loading this page with nbviewer.org.</b></div><div class=\"sk-container\" hidden><div class=\"sk-item\"><div class=\"sk-estimator sk-toggleable\"><input class=\"sk-toggleable__control sk-hidden--visually\" id=\"sk-estimator-id-1\" type=\"checkbox\" checked><label for=\"sk-estimator-id-1\" class=\"sk-toggleable__label sk-toggleable__label-arrow\">LinearRegression</label><div class=\"sk-toggleable__content\"><pre>LinearRegression()</pre></div></div></div></div></div>"
      ],
      "text/plain": [
       "LinearRegression()"
      ]
     },
     "execution_count": 44,
     "metadata": {},
     "output_type": "execute_result"
    }
   ],
   "source": [
    "from sklearn.linear_model import LinearRegression\n",
    "linear_reg = LinearRegression()\n",
    "linear_reg.fit(X_train, y_train)"
   ]
  },
  {
   "cell_type": "code",
   "execution_count": 45,
   "id": "61bb7d91-b462-4fca-ad8f-46fb4ad3b824",
   "metadata": {},
   "outputs": [
    {
     "name": "stdout",
     "output_type": "stream",
     "text": [
      "Mean Absolute Error: 104768.40557779375\n",
      "Mean Squared Error: 21350591361.51655\n",
      "Root Mean Squared Error: 146118.4155454628\n"
     ]
    }
   ],
   "source": [
    "y_pred = linear_reg.predict(X_test)\n",
    "\n",
    "print('Mean Absolute Error:', metrics.mean_absolute_error(y_test, y_pred))\n",
    "print('Mean Squared Error:', metrics.mean_squared_error(y_test, y_pred))\n",
    "print('Root Mean Squared Error:', np.sqrt(metrics.mean_squared_error(y_test, y_pred)))"
   ]
  },
  {
   "cell_type": "code",
   "execution_count": 46,
   "id": "5c657650-a1c9-47a3-be80-bab6ae351083",
   "metadata": {},
   "outputs": [
    {
     "name": "stdout",
     "output_type": "stream",
     "text": [
      "Coefficients: \n",
      " [   712.03276817 -97206.78823378  19978.81310442 125101.27927163]\n"
     ]
    }
   ],
   "source": [
    "print('Coefficients: \\n',linear_reg.coef_)"
   ]
  },
  {
   "cell_type": "code",
   "execution_count": 48,
   "id": "c0b70e27-572f-4ff1-ad7e-1f9776db4cf5",
   "metadata": {},
   "outputs": [
    {
     "name": "stdout",
     "output_type": "stream",
     "text": [
      "Variance score: -0.16\n"
     ]
    }
   ],
   "source": [
    "print('Variance score: %.2f' % linear_reg.score(X_test, y_test))"
   ]
  },
  {
   "cell_type": "code",
   "execution_count": 49,
   "id": "de8229af-a655-4105-ac39-fe8392b31fef",
   "metadata": {},
   "outputs": [
    {
     "data": {
      "text/plain": [
       "sklearn.ensemble._forest.RandomForestRegressor"
      ]
     },
     "execution_count": 49,
     "metadata": {},
     "output_type": "execute_result"
    }
   ],
   "source": [
    "RandomForestRegressor"
   ]
  },
  {
   "cell_type": "code",
   "execution_count": 50,
   "id": "120bf987-27f2-41da-aeb3-2ebd6fff1903",
   "metadata": {},
   "outputs": [],
   "source": [
    "from sklearn.ensemble import RandomForestRegressor"
   ]
  },
  {
   "cell_type": "code",
   "execution_count": 51,
   "id": "c1403194-39cd-4ce4-b247-1b4ffa952ecf",
   "metadata": {},
   "outputs": [
    {
     "name": "stdout",
     "output_type": "stream",
     "text": [
      "Mean Absolute Error: 104768.40557779375\n",
      "Mean Squared Error: 21350591361.51655\n",
      "Root Mean Squared Error: 146118.4155454628\n",
      "----------------------------------------\n",
      "Variance score: 0.16\n"
     ]
    }
   ],
   "source": [
    "rfr = RandomForestRegressor(n_estimators = 400, max_depth = 15)\n",
    "rfr.fit(X_train, y_train)\n",
    "Y_pred = rfr.predict(X_test)\n",
    "\n",
    "print('Mean Absolute Error:', metrics.mean_absolute_error(y_test, y_pred))\n",
    "print('Mean Squared Error:', metrics.mean_squared_error(y_test, y_pred))\n",
    "print('Root Mean Squared Error:', np.sqrt(metrics.mean_squared_error(y_test, y_pred)))\n",
    "print('-'*40)\n",
    "print('Variance score: %.2f' % rfr.score(X_test, y_test))"
   ]
  },
  {
   "cell_type": "code",
   "execution_count": 52,
   "id": "75834272-2a26-4f06-a0ba-fe184c0dad87",
   "metadata": {},
   "outputs": [
    {
     "data": {
      "text/html": [
       "<div>\n",
       "<style scoped>\n",
       "    .dataframe tbody tr th:only-of-type {\n",
       "        vertical-align: middle;\n",
       "    }\n",
       "\n",
       "    .dataframe tbody tr th {\n",
       "        vertical-align: top;\n",
       "    }\n",
       "\n",
       "    .dataframe thead th {\n",
       "        text-align: right;\n",
       "    }\n",
       "</style>\n",
       "<table border=\"1\" class=\"dataframe\">\n",
       "  <thead>\n",
       "    <tr style=\"text-align: right;\">\n",
       "      <th></th>\n",
       "      <th>Actual Sales</th>\n",
       "      <th>Predicted Sales</th>\n",
       "    </tr>\n",
       "  </thead>\n",
       "  <tbody>\n",
       "    <tr>\n",
       "      <th>136</th>\n",
       "      <td>1517428.87</td>\n",
       "      <td>1.597046e+06</td>\n",
       "    </tr>\n",
       "    <tr>\n",
       "      <th>128</th>\n",
       "      <td>1497954.76</td>\n",
       "      <td>1.618555e+06</td>\n",
       "    </tr>\n",
       "    <tr>\n",
       "      <th>114</th>\n",
       "      <td>1621031.70</td>\n",
       "      <td>1.573164e+06</td>\n",
       "    </tr>\n",
       "    <tr>\n",
       "      <th>45</th>\n",
       "      <td>1891034.93</td>\n",
       "      <td>1.509153e+06</td>\n",
       "    </tr>\n",
       "    <tr>\n",
       "      <th>31</th>\n",
       "      <td>1507460.69</td>\n",
       "      <td>1.526287e+06</td>\n",
       "    </tr>\n",
       "  </tbody>\n",
       "</table>\n",
       "</div>"
      ],
      "text/plain": [
       "     Actual Sales  Predicted Sales\n",
       "136    1517428.87     1.597046e+06\n",
       "128    1497954.76     1.618555e+06\n",
       "114    1621031.70     1.573164e+06\n",
       "45     1891034.93     1.509153e+06\n",
       "31     1507460.69     1.526287e+06"
      ]
     },
     "execution_count": 52,
     "metadata": {},
     "output_type": "execute_result"
    }
   ],
   "source": [
    "Actual_vs_Pred = pd.DataFrame({\"Actual Sales\" : y_test, \"Predicted Sales\": y_pred})\n",
    "Actual_vs_Pred.head()"
   ]
  },
  {
   "cell_type": "code",
   "execution_count": null,
   "id": "abd60978-a61d-41cc-80e3-d68663e977d3",
   "metadata": {},
   "outputs": [],
   "source": [
    "Predicted Demand for Store 1"
   ]
  },
  {
   "cell_type": "code",
   "execution_count": 53,
   "id": "7206e4a0-7f3e-4471-ab69-aa0feb68c594",
   "metadata": {},
   "outputs": [
    {
     "data": {
      "text/html": [
       "<div>\n",
       "<style scoped>\n",
       "    .dataframe tbody tr th:only-of-type {\n",
       "        vertical-align: middle;\n",
       "    }\n",
       "\n",
       "    .dataframe tbody tr th {\n",
       "        vertical-align: top;\n",
       "    }\n",
       "\n",
       "    .dataframe thead th {\n",
       "        text-align: right;\n",
       "    }\n",
       "</style>\n",
       "<table border=\"1\" class=\"dataframe\">\n",
       "  <thead>\n",
       "    <tr style=\"text-align: right;\">\n",
       "      <th></th>\n",
       "      <th>errors</th>\n",
       "    </tr>\n",
       "  </thead>\n",
       "  <tbody>\n",
       "    <tr>\n",
       "      <th>136</th>\n",
       "      <td>5.25</td>\n",
       "    </tr>\n",
       "    <tr>\n",
       "      <th>128</th>\n",
       "      <td>8.05</td>\n",
       "    </tr>\n",
       "    <tr>\n",
       "      <th>114</th>\n",
       "      <td>2.95</td>\n",
       "    </tr>\n",
       "    <tr>\n",
       "      <th>45</th>\n",
       "      <td>20.19</td>\n",
       "    </tr>\n",
       "    <tr>\n",
       "      <th>31</th>\n",
       "      <td>1.25</td>\n",
       "    </tr>\n",
       "  </tbody>\n",
       "</table>\n",
       "</div>"
      ],
      "text/plain": [
       "     errors\n",
       "136    5.25\n",
       "128    8.05\n",
       "114    2.95\n",
       "45    20.19\n",
       "31     1.25"
      ]
     },
     "execution_count": 53,
     "metadata": {},
     "output_type": "execute_result"
    }
   ],
   "source": [
    "# Errors in % w.r.t the particular store sales : predicted sales and actual sales.\n",
    "Errors = pd.DataFrame({'errors':round(((abs(y_pred - y_test))/y_test)*100,2)})\n",
    "Errors.head()"
   ]
  },
  {
   "cell_type": "code",
   "execution_count": null,
   "id": "0acc5fec-891b-4cf8-9a37-eb78c7158e8f",
   "metadata": {},
   "outputs": [],
   "source": []
  }
 ],
 "metadata": {
  "kernelspec": {
   "display_name": "Python 3 [3.10]",
   "language": "python",
   "name": "python3"
  },
  "language_info": {
   "codemirror_mode": {
    "name": "ipython",
    "version": 3
   },
   "file_extension": ".py",
   "mimetype": "text/x-python",
   "name": "python",
   "nbconvert_exporter": "python",
   "pygments_lexer": "ipython3",
   "version": "3.10.2"
  }
 },
 "nbformat": 4,
 "nbformat_minor": 5
}
